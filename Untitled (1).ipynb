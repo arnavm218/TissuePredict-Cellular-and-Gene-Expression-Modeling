{
 "cells": [
  {
   "cell_type": "code",
   "execution_count": 1,
   "id": "02a0105d-52ee-40ab-9b0c-90559fadbc84",
   "metadata": {},
   "outputs": [
    {
     "name": "stdout",
     "output_type": "stream",
     "text": [
      "Hello World\n"
     ]
    }
   ],
   "source": [
    "print(\"Hello World\")"
   ]
  },
  {
   "cell_type": "code",
   "execution_count": 3,
   "id": "8d4349e9-2b26-4716-96ce-871a0e0e9429",
   "metadata": {},
   "outputs": [],
   "source": [
    "import pandas as pd"
   ]
  },
  {
   "cell_type": "code",
   "execution_count": 4,
   "id": "0acd4068-aa84-487e-884e-dac5ed7206bd",
   "metadata": {},
   "outputs": [],
   "source": [
    "df = pd.read_csv(\"23_09_CODEX_HuBMAP_alldata_Dryad_merged.csv\")"
   ]
  },
  {
   "cell_type": "code",
   "execution_count": 5,
   "id": "32711ec6-7bf0-4a34-81b4-78e3cd124e7e",
   "metadata": {},
   "outputs": [
    {
     "data": {
      "text/plain": [
       "<bound method NDFrame.head of          Unnamed: 0      MUC2      SOX9      MUC1      CD31   Synapto  \\\n",
       "0                 0 -0.303994 -0.163727 -0.587608 -0.212903  0.164173   \n",
       "1                 1 -0.301927 -0.491706 -0.500804 -0.243205 -0.142568   \n",
       "2                 2 -0.302206 -0.547234 -0.510705 -0.235309 -0.217185   \n",
       "3                 3 -0.304219 -0.613068 -0.584499 -0.243757 -0.266696   \n",
       "4                 4 -0.294644 -0.615593 -0.570580 -0.247548 -0.042246   \n",
       "...             ...       ...       ...       ...       ...       ...   \n",
       "2603212     2603212  0.351916  0.693827 -0.081489 -0.240643  0.008875   \n",
       "2603213     2603213  0.233642  0.171892  0.141842 -0.236145 -0.097772   \n",
       "2603214     2603214 -0.212237 -0.280904 -0.197833 -0.245638 -0.152563   \n",
       "2603215     2603215 -0.328666  0.607609 -0.180362 -0.247351 -0.143742   \n",
       "2603216     2603216  0.015179  1.656635 -0.250193 -0.243560 -0.084982   \n",
       "\n",
       "            CD49f      CD15      CHGA      CDX2  ...      Cell Type em  \\\n",
       "0       -0.664863  0.049305  0.003616 -0.377532  ...                NK   \n",
       "1       -0.664861 -0.182627 -0.117573 -0.182754  ...                NK   \n",
       "2       -0.622758 -0.296486 -0.091504 -0.268055  ...                NK   \n",
       "3       -0.658449 -0.299027 -0.121460 -0.345381  ...                NK   \n",
       "4       -0.642230 -0.299031 -0.121458 -0.377533  ...                NK   \n",
       "...           ...       ...       ...       ...  ...               ...   \n",
       "2603212  0.143445  0.373710 -0.097896  0.869830  ...  CD66+ Enterocyte   \n",
       "2603213 -0.099283  0.626185 -0.105545  0.092076  ...  CD66+ Enterocyte   \n",
       "2603214 -0.125035  0.430416 -0.105787 -0.038327  ...  CD66+ Enterocyte   \n",
       "2603215 -0.169576  1.095596 -0.113879  0.370160  ...  CD66+ Enterocyte   \n",
       "2603216  0.061781  1.300252 -0.108526  1.245830  ...  CD66+ Enterocyte   \n",
       "\n",
       "         Cell subtype             Neighborhood   Neigh_sub  \\\n",
       "0              Immune        Mature Epithelial  Epithelial   \n",
       "1              Immune  Transit Amplifying Zone  Epithelial   \n",
       "2              Immune   Innate Immune Enriched      Immune   \n",
       "3              Immune   Stroma & Innate Immune     Stromal   \n",
       "4              Immune           Outer Follicle      Immune   \n",
       "...               ...                      ...         ...   \n",
       "2603212    Epithelial  CD66+ Mature Epithelial  Epithelial   \n",
       "2603213    Epithelial  CD66+ Mature Epithelial  Epithelial   \n",
       "2603214    Epithelial      CD8+ T Enriched IEL      Immune   \n",
       "2603215    Epithelial  Transit Amplifying Zone  Epithelial   \n",
       "2603216    Epithelial  CD66+ Mature Epithelial  Epithelial   \n",
       "\n",
       "                Neighborhood_Ind  NeighInd_sub                Community  \\\n",
       "0              Mature Epithelial    Epithelial     Plasma Cell Enriched   \n",
       "1              Mature Epithelial    Epithelial        Mature Epithelial   \n",
       "2         Innate Immune Enriched        Immune   Innate Immune Enriched   \n",
       "3         Stroma & Innate Immune       Stromal                   Stroma   \n",
       "4                 Outer Follicle        Immune                 Follicle   \n",
       "...                          ...           ...                      ...   \n",
       "2603212  CD66+ Mature Epithelial    Epithelial     Secretory Epithelial   \n",
       "2603213  CD66+ Mature Epithelial    Epithelial     Secretory Epithelial   \n",
       "2603214      CD8+ T Enriched IEL        Immune        Mature Epithelial   \n",
       "2603215        Mature Epithelial    Epithelial  CD66+ Mature Epithelial   \n",
       "2603216  CD66+ Mature Epithelial    Epithelial        Mature Epithelial   \n",
       "\n",
       "         Major Community  Tissue Segment  Tissue Unit  \n",
       "0                 Immune          Mucosa       Mucosa  \n",
       "1             Epithelial          Mucosa       Mucosa  \n",
       "2                 Immune          Mucosa       Mucosa  \n",
       "3                 Stroma        Subucosa    Submucosa  \n",
       "4                 Immune          Mucosa       Mucosa  \n",
       "...                  ...             ...          ...  \n",
       "2603212       Epithelial          Mucosa       Mucosa  \n",
       "2603213       Epithelial          Mucosa       Mucosa  \n",
       "2603214       Epithelial          Mucosa       Mucosa  \n",
       "2603215       Epithelial          Mucosa       Mucosa  \n",
       "2603216       Epithelial          Mucosa       Mucosa  \n",
       "\n",
       "[2603217 rows x 75 columns]>"
      ]
     },
     "execution_count": 5,
     "metadata": {},
     "output_type": "execute_result"
    }
   ],
   "source": [
    "df.head"
   ]
  },
  {
   "cell_type": "code",
   "execution_count": 6,
   "id": "3edb7005-f700-41c8-885d-bdc6a65d9808",
   "metadata": {},
   "outputs": [
    {
     "data": {
      "text/plain": [
       "0              Immune\n",
       "1          Epithelial\n",
       "2              Immune\n",
       "3              Stroma\n",
       "4              Immune\n",
       "              ...    \n",
       "2603212    Epithelial\n",
       "2603213    Epithelial\n",
       "2603214    Epithelial\n",
       "2603215    Epithelial\n",
       "2603216    Epithelial\n",
       "Name: Major Community, Length: 2603217, dtype: object"
      ]
     },
     "execution_count": 6,
     "metadata": {},
     "output_type": "execute_result"
    }
   ],
   "source": [
    "df['Major Community']"
   ]
  },
  {
   "cell_type": "code",
   "execution_count": 8,
   "id": "23d6102e-064e-4023-9a1e-e8ec306e63a6",
   "metadata": {},
   "outputs": [
    {
     "data": {
      "text/plain": [
       "Index(['Unnamed: 0', 'MUC2', 'SOX9', 'MUC1', 'CD31', 'Synapto', 'CD49f',\n",
       "       'CD15', 'CHGA', 'CDX2', 'ITLN1', 'CD4', 'CD127', 'Vimentin', 'HLADR',\n",
       "       'CD8', 'CD11c', 'CD44', 'CD16', 'BCL2', 'CD3', 'CD123', 'CD38', 'CD90',\n",
       "       'aSMA', 'CD21', 'NKG2D', 'CD66', 'CD57', 'CD206', 'CD68', 'CD34',\n",
       "       'aDef5', 'CD7', 'CD36', 'CD138', 'CD45RO', 'Cytokeratin', 'CD117',\n",
       "       'CD19', 'Podoplanin', 'CD45', 'CD56', 'CD69', 'Ki67', 'CD49a', 'CD163',\n",
       "       'CD161', 'x', 'y', 'array', 'Xcorr', 'Ycorr', 'Tissue_location',\n",
       "       'tissue', 'donor', 'unique_region', 'region', 'OLFM4', 'FAP', 'CD25',\n",
       "       'CollIV', 'CK7', 'MUC6', 'Cell Type', 'Cell Type em', 'Cell subtype',\n",
       "       'Neighborhood', 'Neigh_sub', 'Neighborhood_Ind', 'NeighInd_sub',\n",
       "       'Community', 'Major Community', 'Tissue Segment', 'Tissue Unit'],\n",
       "      dtype='object')"
      ]
     },
     "execution_count": 8,
     "metadata": {},
     "output_type": "execute_result"
    }
   ],
   "source": [
    "df.columns"
   ]
  },
  {
   "cell_type": "code",
   "execution_count": 9,
   "id": "419ac6fd-a85e-497b-8ea7-9b9591de2447",
   "metadata": {},
   "outputs": [
    {
     "data": {
      "text/plain": [
       "(2603217, 75)"
      ]
     },
     "execution_count": 9,
     "metadata": {},
     "output_type": "execute_result"
    }
   ],
   "source": [
    "df.shape"
   ]
  },
  {
   "cell_type": "code",
   "execution_count": 10,
   "id": "356eb103-9395-4057-9bd7-3aace77660e9",
   "metadata": {},
   "outputs": [],
   "source": [
    "X = df.iloc[:,1:40]\n",
    "y = df['Cell Type']"
   ]
  },
  {
   "cell_type": "code",
   "execution_count": 11,
   "id": "cdd72f31-3d68-4d7d-a2ae-8dc0d42deb6f",
   "metadata": {},
   "outputs": [
    {
     "data": {
      "text/plain": [
       "(2603217, 39)"
      ]
     },
     "execution_count": 11,
     "metadata": {},
     "output_type": "execute_result"
    }
   ],
   "source": [
    "X.shape"
   ]
  },
  {
   "cell_type": "code",
   "execution_count": 12,
   "id": "9ccfe7d5-46d2-4510-a02b-7c4f98e97ccb",
   "metadata": {},
   "outputs": [
    {
     "data": {
      "text/plain": [
       "(2603217,)"
      ]
     },
     "execution_count": 12,
     "metadata": {},
     "output_type": "execute_result"
    }
   ],
   "source": [
    "y.shape"
   ]
  },
  {
   "cell_type": "code",
   "execution_count": 39,
   "id": "2c5a36ba-975a-45f3-9652-292b04f2a817",
   "metadata": {},
   "outputs": [],
   "source": [
    "from sklearn.neural_network import MLPClassifier\n",
    "from sklearn.model_selection import train_test_split\n",
    "X_train, X_test, y_train, y_test = train_test_split(X, y, stratify=y,\n",
    "                                                    random_state=1)"
   ]
  },
  {
   "cell_type": "code",
   "execution_count": 14,
   "id": "2700257a-6e82-4e74-ab8b-a37197404be1",
   "metadata": {},
   "outputs": [
    {
     "name": "stdout",
     "output_type": "stream",
     "text": [
      "Iteration 1, loss = 0.50999026\n",
      "Iteration 2, loss = 0.42723302\n",
      "Iteration 3, loss = 0.41269903\n",
      "Iteration 4, loss = 0.40445432\n",
      "Iteration 5, loss = 0.39914245\n",
      "Iteration 6, loss = 0.39534125\n",
      "Iteration 7, loss = 0.39234551\n",
      "Iteration 8, loss = 0.39018296\n",
      "Iteration 9, loss = 0.38817880\n",
      "Iteration 10, loss = 0.38652920\n",
      "Iteration 11, loss = 0.38512254\n",
      "Iteration 12, loss = 0.38382961\n",
      "Iteration 13, loss = 0.38266102\n",
      "Iteration 14, loss = 0.38167319\n",
      "Iteration 15, loss = 0.38086302\n",
      "Iteration 16, loss = 0.38003028\n",
      "Iteration 17, loss = 0.37934532\n",
      "Iteration 18, loss = 0.37854780\n",
      "Iteration 19, loss = 0.37799068\n",
      "Iteration 20, loss = 0.37750830\n",
      "Iteration 21, loss = 0.37694669\n",
      "Iteration 22, loss = 0.37656492\n",
      "Iteration 23, loss = 0.37614937\n",
      "Iteration 24, loss = 0.37582779\n",
      "Iteration 25, loss = 0.37550007\n",
      "Iteration 26, loss = 0.37510964\n",
      "Iteration 27, loss = 0.37483499\n",
      "Iteration 28, loss = 0.37451578\n",
      "Iteration 29, loss = 0.37421375\n",
      "Iteration 30, loss = 0.37389464\n",
      "Iteration 31, loss = 0.37366290\n",
      "Iteration 32, loss = 0.37346464\n",
      "Iteration 33, loss = 0.37328650\n",
      "Iteration 34, loss = 0.37293756\n",
      "Iteration 35, loss = 0.37263486\n",
      "Iteration 36, loss = 0.37250528\n",
      "Iteration 37, loss = 0.37215036\n",
      "Iteration 38, loss = 0.37191614\n",
      "Iteration 39, loss = 0.37189322\n",
      "Iteration 40, loss = 0.37151187\n",
      "Iteration 41, loss = 0.37132637\n",
      "Iteration 42, loss = 0.37108520\n",
      "Iteration 43, loss = 0.37098624\n",
      "Iteration 44, loss = 0.37053320\n",
      "Iteration 45, loss = 0.37041766\n",
      "Iteration 46, loss = 0.37021847\n",
      "Iteration 47, loss = 0.36991852\n",
      "Iteration 48, loss = 0.36976512\n",
      "Iteration 49, loss = 0.36946006\n",
      "Iteration 50, loss = 0.36930973\n",
      "Iteration 51, loss = 0.36926939\n",
      "Iteration 52, loss = 0.36909158\n",
      "Iteration 53, loss = 0.36886399\n",
      "Iteration 54, loss = 0.36869541\n",
      "Iteration 55, loss = 0.36868178\n",
      "Iteration 56, loss = 0.36848136\n",
      "Iteration 57, loss = 0.36844278\n",
      "Iteration 58, loss = 0.36818874\n",
      "Iteration 59, loss = 0.36825596\n",
      "Iteration 60, loss = 0.36796270\n",
      "Iteration 61, loss = 0.36789746\n",
      "Iteration 62, loss = 0.36778353\n",
      "Iteration 63, loss = 0.36762553\n",
      "Iteration 64, loss = 0.36759973\n",
      "Iteration 65, loss = 0.36736608\n",
      "Iteration 66, loss = 0.36732577\n",
      "Iteration 67, loss = 0.36728187\n",
      "Iteration 68, loss = 0.36723062\n",
      "Iteration 69, loss = 0.36717643\n",
      "Iteration 70, loss = 0.36693526\n",
      "Iteration 71, loss = 0.36684311\n",
      "Iteration 72, loss = 0.36662077\n",
      "Iteration 73, loss = 0.36662471\n",
      "Iteration 74, loss = 0.36647924\n",
      "Iteration 75, loss = 0.36646689\n",
      "Iteration 76, loss = 0.36630587\n",
      "Iteration 77, loss = 0.36610685\n",
      "Iteration 78, loss = 0.36591122\n",
      "Iteration 79, loss = 0.36592512\n",
      "Iteration 80, loss = 0.36573827\n",
      "Iteration 81, loss = 0.36561797\n",
      "Iteration 82, loss = 0.36548578\n",
      "Iteration 83, loss = 0.36540665\n",
      "Iteration 84, loss = 0.36540627\n",
      "Iteration 85, loss = 0.36520862\n",
      "Iteration 86, loss = 0.36507854\n",
      "Iteration 87, loss = 0.36503773\n",
      "Iteration 88, loss = 0.36491711\n",
      "Iteration 89, loss = 0.36488008\n",
      "Iteration 90, loss = 0.36483752\n",
      "Iteration 91, loss = 0.36465428\n",
      "Iteration 92, loss = 0.36462227\n",
      "Iteration 93, loss = 0.36462072\n",
      "Iteration 94, loss = 0.36462465\n",
      "Iteration 95, loss = 0.36449278\n",
      "Iteration 96, loss = 0.36432582\n",
      "Iteration 97, loss = 0.36431221\n",
      "Iteration 98, loss = 0.36428809\n",
      "Iteration 99, loss = 0.36418800\n",
      "Iteration 100, loss = 0.36425270\n",
      "Iteration 101, loss = 0.36418129\n",
      "Iteration 102, loss = 0.36382324\n",
      "Iteration 103, loss = 0.36404599\n",
      "Iteration 104, loss = 0.36389779\n",
      "Iteration 105, loss = 0.36372163\n",
      "Iteration 106, loss = 0.36375760\n",
      "Iteration 107, loss = 0.36375516\n",
      "Iteration 108, loss = 0.36362324\n",
      "Iteration 109, loss = 0.36361591\n",
      "Iteration 110, loss = 0.36369668\n",
      "Iteration 111, loss = 0.36364451\n",
      "Iteration 112, loss = 0.36350578\n",
      "Iteration 113, loss = 0.36349560\n",
      "Iteration 114, loss = 0.36347242\n",
      "Iteration 115, loss = 0.36328519\n",
      "Iteration 116, loss = 0.36326438\n",
      "Iteration 117, loss = 0.36318771\n",
      "Iteration 118, loss = 0.36319365\n",
      "Iteration 119, loss = 0.36325508\n",
      "Iteration 120, loss = 0.36312451\n",
      "Iteration 121, loss = 0.36305780\n",
      "Iteration 122, loss = 0.36317568\n",
      "Iteration 123, loss = 0.36297763\n",
      "Iteration 124, loss = 0.36304677\n",
      "Iteration 125, loss = 0.36291448\n",
      "Iteration 126, loss = 0.36288143\n",
      "Training loss did not improve more than tol=0.000100 for 10 consecutive epochs. Stopping.\n"
     ]
    }
   ],
   "source": [
    "clf = MLPClassifier(random_state=1, max_iter=150, verbose=True).fit(X_train, y_train)"
   ]
  },
  {
   "cell_type": "code",
   "execution_count": 15,
   "id": "990c245f-10eb-49b2-b8b0-5b710771dfc7",
   "metadata": {},
   "outputs": [
    {
     "data": {
      "text/plain": [
       "0.8744600917325466"
      ]
     },
     "execution_count": 15,
     "metadata": {},
     "output_type": "execute_result"
    }
   ],
   "source": [
    "clf.score(X_test, y_test)"
   ]
  },
  {
   "cell_type": "code",
   "execution_count": null,
   "id": "7f87de9e-b502-49ca-bb0b-43f2f98f362b",
   "metadata": {},
   "outputs": [],
   "source": []
  }
 ],
 "metadata": {
  "kernelspec": {
   "display_name": "Python 3 (ipykernel)",
   "language": "python",
   "name": "python3"
  },
  "language_info": {
   "codemirror_mode": {
    "name": "ipython",
    "version": 3
   },
   "file_extension": ".py",
   "mimetype": "text/x-python",
   "name": "python",
   "nbconvert_exporter": "python",
   "pygments_lexer": "ipython3",
   "version": "3.12.4"
  }
 },
 "nbformat": 4,
 "nbformat_minor": 5
}
